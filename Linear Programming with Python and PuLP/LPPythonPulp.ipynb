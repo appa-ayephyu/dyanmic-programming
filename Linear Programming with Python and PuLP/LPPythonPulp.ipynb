{
 "cells": [
  {
   "cell_type": "code",
   "execution_count": 5,
   "metadata": {},
   "outputs": [
    {
     "data": {
      "text/plain": [
       "<matplotlib.legend.Legend at 0x1c3bff4f748>"
      ]
     },
     "execution_count": 5,
     "metadata": {},
     "output_type": "execute_result"
    },
    {
     "data": {
      "image/png": "[encoded data removed]",
      "text/plain": [
       "<matplotlib.figure.Figure at 0x1c3bf494588>"
      ]
     },
     "metadata": {},
     "output_type": "display_data"
    }
   ],
   "source": [
    "import numpy as np\n",
    "import matplotlib.pyplot as plt\n",
    "%matplotlib inline\n",
    "\n",
    "# Construct lines\n",
    "# x>0\n",
    "x = np.linspace(0,20,2000)\n",
    "# y >= 2\n",
    "y1 = (x*0) + 2\n",
    "# 2y <= 25-x\n",
    "y2 = (25-x)/2.0\n",
    "# 4y >= 2x-8\n",
    "y3 = (2*x-8)/4.0\n",
    "#y<= 2x-5\n",
    "y4= (2*x-5)\n",
    "\n",
    "# Make plot\n",
    "plt.plot(x, y1, label=r'$y\\geq2$')\n",
    "plt.plot(x, y2, label=r'$2y\\leq25-x$')\n",
    "plt.plot(x, y3, label=r'$4y\\geq2x-8$')\n",
    "plt.plot(x, y4, label=r'$y\\leq2x-5$')\n",
    "plt.xlim((0,16))\n",
    "plt.ylim((0,11))\n",
    "plt.xlabel(r'$x$')\n",
    "plt.ylabel(r'$y$')\n",
    "\n",
    "#fill feasible region\n",
    "y5 = np.minimum(y2,y4)\n",
    "y6 = np.maximum(y1,y3)\n",
    "plt.fill_between(x, y5, y6, where=y5>y6, color='grey', alpha=0.5)\n",
    "plt.legend(bbox_to_anchor=(1.05,1), loc=2, borderaxespad=0.)"
   ]
  },
  {
   "cell_type": "code",
   "execution_count": 2,
   "metadata": {},
   "outputs": [],
   "source": [
    "import pulp"
   ]
  },
  {
   "cell_type": "code",
   "execution_count": 8,
   "metadata": {
    "collapsed": true
   },
   "outputs": [],
   "source": [
    "my_lp_problem = pulp.LpProblem(\"My LP Problem\", pulp.LpMaximize)"
   ]
  },
  {
   "cell_type": "code",
   "execution_count": 9,
   "metadata": {
    "collapsed": true
   },
   "outputs": [],
   "source": [
    "x = pulp.LpVariable('x', lowBound =0 , cat='Continuous')\n",
    "y = pulp.LpVariable('y', lowBound =0 , cat='Continuous')"
   ]
  },
  {
   "cell_type": "code",
   "execution_count": 10,
   "metadata": {},
   "outputs": [],
   "source": [
    "#Objective function\n",
    "my_lp_problem += 4*x + 3*y, \"Z\"\n",
    "\n",
    "#Constraints\n",
    "my_lp_problem += y>= 2\n",
    "my_lp_problem += 2*y <= 25-x\n",
    "my_lp_problem += 4*y >= 2*x-8\n",
    "my_lp_problem += y <= 2*x-5"
   ]
  },
  {
   "cell_type": "code",
   "execution_count": 11,
   "metadata": {},
   "outputs": [
    {
     "data": {
      "text/plain": [
       "My LP Problem:\n",
       "MAXIMIZE\n",
       "4*x + 3*y + 0\n",
       "SUBJECT TO\n",
       "_C1: y >= 2\n",
       "\n",
       "_C2: x + 2 y <= 25\n",
       "\n",
       "_C3: - 2 x + 4 y >= -8\n",
       "\n",
       "_C4: - 2 x + y <= -5\n",
       "\n",
       "VARIABLES\n",
       "x Continuous\n",
       "y Continuous"
      ]
     },
     "execution_count": 11,
     "metadata": {},
     "output_type": "execute_result"
    }
   ],
   "source": [
    "my_lp_problem"
   ]
  },
  {
   "cell_type": "code",
   "execution_count": 12,
   "metadata": {},
   "outputs": [
    {
     "data": {
      "text/plain": [
       "'Optimal'"
      ]
     },
     "execution_count": 12,
     "metadata": {},
     "output_type": "execute_result"
    }
   ],
   "source": [
    "my_lp_problem.solve()\n",
    "pulp.LpStatus[my_lp_problem.status]"
   ]
  },
  {
   "cell_type": "code",
   "execution_count": 16,
   "metadata": {},
   "outputs": [
    {
     "name": "stdout",
     "output_type": "stream",
     "text": [
      "x = 14.5\n",
      "y = 5.25\n",
      "73.75\n"
     ]
    }
   ],
   "source": [
    "for variable in my_lp_problem.variables():\n",
    "    print(\"{} = {}\".format(variable.name, variable.varValue))\n",
    "print(pulp.value(my_lp_problem.objective))"
   ]
  },
  {
   "cell_type": "code",
   "execution_count": 17,
   "metadata": {},
   "outputs": [
    {
     "data": {
      "text/plain": [
       "Resource Problem:\n",
       "MAXIMIZE\n",
       "30000*a + 45000*b + 0\n",
       "SUBJECT TO\n",
       "_C1: 3 a + 4 b <= 30\n",
       "\n",
       "_C2: 5 a + 6 b <= 60\n",
       "\n",
       "_C3: 1.5 a + 3 b <= 21\n",
       "\n",
       "VARIABLES\n",
       "0 <= a Integer\n",
       "0 <= b Integer"
      ]
     },
     "execution_count": 17,
     "metadata": {},
     "output_type": "execute_result"
    }
   ],
   "source": [
    "resource_problem = pulp.LpProblem(\"Resource Problem\", pulp.LpMaximize)\n",
    "\n",
    "a = pulp.LpVariable('a', lowBound = 0, cat='Integer')\n",
    "b = pulp.LpVariable('b', lowBound = 0, cat='Integer')\n",
    "\n",
    "#Objective Function\n",
    "resource_problem += 30000*a + 45000*b, \"Profit\"\n",
    "\n",
    "resource_problem += 3*a + 4*b <= 30\n",
    "resource_problem += 5*a+ 6*b <= 60\n",
    "resource_problem += 1.5*a + 3*b <= 21\n",
    "\n",
    "resource_problem"
   ]
  },
  {
   "cell_type": "code",
   "execution_count": 18,
   "metadata": {},
   "outputs": [
    {
     "data": {
      "text/plain": [
       "'Optimal'"
      ]
     },
     "execution_count": 18,
     "metadata": {},
     "output_type": "execute_result"
    }
   ],
   "source": [
    "resource_problem.solve()\n",
    "pulp.LpStatus[resource_problem.status]"
   ]
  },
  {
   "cell_type": "code",
   "execution_count": 22,
   "metadata": {},
   "outputs": [
    {
     "name": "stdout",
     "output_type": "stream",
     "text": [
      "a = 2.0\n",
      "b = 6.0\n",
      "Total Profit 330000.0\n"
     ]
    }
   ],
   "source": [
    "for variable in resource_problem.variables():\n",
    "    print(\"{} = {}\".format(variable.name, variable.varValue))\n",
    "    \n",
    "print(\"Total Profit \" + str(pulp.value(resource_problem.objective)))"
   ]
  },
  {
   "cell_type": "code",
   "execution_count": 38,
   "metadata": {},
   "outputs": [
    {
     "data": {
      "text/plain": [
       "'Optimal'"
      ]
     },
     "execution_count": 38,
     "metadata": {},
     "output_type": "execute_result"
    }
   ],
   "source": [
    "blending_problem = pulp.LpProblem(\"Blending Problem\", pulp.LpMinimize)\n",
    "\n",
    "#variables\n",
    "#here, we will define as dict\n",
    "sausage_types = ['economy', 'premium']\n",
    "ingredients = ['pork', 'wheat', 'starch']\n",
    "\n",
    "ing_weight = pulp.LpVariable.dicts(\"weight_kg\", ((i,j) for i in sausage_types for j in ingredients),\n",
    "                                  lowBound = 0, cat='Continuous')\n",
    "\n",
    "#objective function\n",
    "blending_problem += (pulp.lpSum([4.32* ing_weight[(i,'pork')]\n",
    "                                + 2.46* ing_weight[(i,'wheat')]\n",
    "                                + 1.86* ing_weight[(i,'starch')]\n",
    "                                for i in sausage_types]))\n",
    "\n",
    "#constraints\n",
    "#350 for economy sausages and 500 for premium sausages\n",
    "blending_problem += pulp.lpSum([ ing_weight[('economy', j)] for j in ingredients]) == 350 * 0.05\n",
    "blending_problem += pulp.lpSum([ ing_weight[('premium', j)] for j in ingredients]) == 500 * 0.05\n",
    "\n",
    "#economy has >= 40% pork and premium has >=60%\n",
    "blending_problem += ing_weight[('economy','pork')] >= 0.4* pulp.lpSum([ing_weight[('economy',j)] for j in ingredients])\n",
    "blending_problem += ing_weight[('premium','pork')] >= 0.6* pulp.lpSum([ing_weight[('premium',j)] for j in ingredients])\n",
    "\n",
    "#sausages must be <=25% starch\n",
    "blending_problem += ing_weight[('economy','starch')] <= 0.25* pulp.lpSum([ing_weight[('economy',j)] for j in ingredients])\n",
    "blending_problem += ing_weight[('premium','starch')] <= 0.25* pulp.lpSum([ing_weight[('premium',j)] for j in ingredients])\n",
    "\n",
    "#have 30kg of pork, 20kg of wheat and 17kg of starch available\n",
    "#but need to use at least 23kg\n",
    "blending_problem += pulp.lpSum([ ing_weight[(i, 'pork')] for i in sausage_types]) <= 30\n",
    "blending_problem += pulp.lpSum([ ing_weight[(i, 'wheat')] for i in sausage_types]) <= 20\n",
    "blending_problem += pulp.lpSum([ ing_weight[(i, 'starch')] for i in sausage_types]) <= 17\n",
    "blending_problem += pulp.lpSum([ ing_weight[(i, 'pork')] for i in sausage_types]) >= 23\n",
    "\n",
    "blending_problem.solve()\n",
    "pulp.LpStatus[blending_problem.status]\n",
    "\n",
    "\n",
    "\n"
   ]
  },
  {
   "cell_type": "code",
   "execution_count": 39,
   "metadata": {},
   "outputs": [
    {
     "name": "stdout",
     "output_type": "stream",
     "text": [
      "The weight of pork in economy sausages is 7.0kg\n",
      "The weight of wheat in economy sausages is 6.125kg\n",
      "The weight of starch in economy sausages is 4.375kg\n",
      "The weight of pork in premium sausages is 16.0kg\n",
      "The weight of wheat in premium sausages is 2.75kg\n",
      "The weight of starch in premium sausages is 6.25kg\n"
     ]
    }
   ],
   "source": [
    "for var in ing_weight:\n",
    "    var_value = ing_weight[var].varValue\n",
    "    print(\"The weight of {0} in {1} sausages is {2}kg\".format(var[1], var[0], var_value))"
   ]
  },
  {
   "cell_type": "code",
   "execution_count": 40,
   "metadata": {},
   "outputs": [
    {
     "name": "stdout",
     "output_type": "stream",
     "text": [
      "Total minimum cost 140.96\n"
     ]
    }
   ],
   "source": [
    "total_cost= pulp.value(blending_problem.objective)\n",
    "print(\"Total minimum cost \"+ str(round(total_cost,2)))"
   ]
  },
  {
   "cell_type": "code",
   "execution_count": 41,
   "metadata": {},
   "outputs": [
    {
     "data": {
      "text/plain": [
       "Blending Problem:\n",
       "MINIMIZE\n",
       "4.32*weight_kg_('economy',_'pork') + 1.86*weight_kg_('economy',_'starch') + 2.46*weight_kg_('economy',_'wheat') + 4.32*weight_kg_('premium',_'pork') + 1.86*weight_kg_('premium',_'starch') + 2.46*weight_kg_('premium',_'wheat') + 0.0\n",
       "SUBJECT TO\n",
       "_C1: weight_kg_('economy',_'pork') + weight_kg_('economy',_'starch')\n",
       " + weight_kg_('economy',_'wheat') = 17.5\n",
       "\n",
       "_C2: weight_kg_('premium',_'pork') + weight_kg_('premium',_'starch')\n",
       " + weight_kg_('premium',_'wheat') = 25\n",
       "\n",
       "_C3: 0.6 weight_kg_('economy',_'pork') - 0.4 weight_kg_('economy',_'starch')\n",
       " - 0.4 weight_kg_('economy',_'wheat') >= 0\n",
       "\n",
       "_C4: 0.4 weight_kg_('premium',_'pork') - 0.6 weight_kg_('premium',_'starch')\n",
       " - 0.6 weight_kg_('premium',_'wheat') >= 0\n",
       "\n",
       "_C5: - 0.25 weight_kg_('economy',_'pork')\n",
       " + 0.75 weight_kg_('economy',_'starch') - 0.25 weight_kg_('economy',_'wheat')\n",
       " <= 0\n",
       "\n",
       "_C6: - 0.25 weight_kg_('premium',_'pork')\n",
       " + 0.75 weight_kg_('premium',_'starch') - 0.25 weight_kg_('premium',_'wheat')\n",
       " <= 0\n",
       "\n",
       "_C7: weight_kg_('economy',_'pork') + weight_kg_('premium',_'pork') <= 30\n",
       "\n",
       "_C8: weight_kg_('economy',_'wheat') + weight_kg_('premium',_'wheat') <= 20\n",
       "\n",
       "_C9: weight_kg_('economy',_'starch') + weight_kg_('premium',_'starch') <= 17\n",
       "\n",
       "_C10: weight_kg_('economy',_'pork') + weight_kg_('premium',_'pork') >= 23\n",
       "\n",
       "VARIABLES\n",
       "weight_kg_('economy',_'pork') Continuous\n",
       "weight_kg_('economy',_'starch') Continuous\n",
       "weight_kg_('economy',_'wheat') Continuous\n",
       "weight_kg_('premium',_'pork') Continuous\n",
       "weight_kg_('premium',_'starch') Continuous\n",
       "weight_kg_('premium',_'wheat') Continuous"
      ]
     },
     "execution_count": 41,
     "metadata": {},
     "output_type": "execute_result"
    }
   ],
   "source": [
    "blending_problem"
   ]
  },
  {
   "cell_type": "code",
   "execution_count": null,
   "metadata": {
    "collapsed": true
   },
   "outputs": [],
   "source": []
  }
 ],
 "metadata": {
  "kernelspec": {
   "display_name": "Python 3",
   "language": "python",
   "name": "python3"
  },
  "language_info": {
   "codemirror_mode": {
    "name": "ipython",
    "version": 3
   },
   "file_extension": ".py",
   "mimetype": "text/x-python",
   "name": "python",
   "nbconvert_exporter": "python",
   "pygments_lexer": "ipython3",
   "version": "3.6.2"
  }
 },
 "nbformat": 4,
 "nbformat_minor": 2
}
